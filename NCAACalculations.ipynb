{
 "cells": [
  {
   "cell_type": "code",
   "execution_count": 68,
   "metadata": {
    "collapsed": true,
    "deletable": true,
    "editable": true
   },
   "outputs": [],
   "source": [
    "import pandas\n",
    "import operator"
   ]
  },
  {
   "cell_type": "code",
   "execution_count": 69,
   "metadata": {
    "collapsed": false,
    "deletable": true,
    "editable": true
   },
   "outputs": [],
   "source": [
    "# Get the information and make the dictionary\n",
    "html = pandas.read_html(\"http://escrimeresults.com/NCAA/ncaa2016.html\")"
   ]
  },
  {
   "cell_type": "code",
   "execution_count": 76,
   "metadata": {
    "collapsed": false,
    "deletable": true,
    "editable": true
   },
   "outputs": [
    {
     "name": "stdout",
     "output_type": "stream",
     "text": [
      "('COLU', [174, 276])\n",
      "('OSU', [167, 253])\n",
      "('PRIN', [161, 276])\n",
      "('STJ', [161, 276])\n",
      "('ND', [160, 276])\n",
      "('PSU', [127, 230])\n",
      "('HARV', [100, 207])\n",
      "('PENN', [94, 184])\n",
      "('DUKE', [58, 138])\n",
      "('NJIT', [55, 138])\n",
      "('STAN', [45, 161])\n",
      "('NW', [44, 92])\n",
      "('NYU', [44, 115])\n",
      "('WAYN', [41, 69])\n",
      "('CORN', [36, 92])\n",
      "('TEMP', [30, 92])\n",
      "('YALE', [28, 92])\n",
      "('UCSD', [27, 92])\n",
      "('SACR', [26, 69])\n",
      "('BC', [21, 46])\n",
      "('UNC', [18, 46])\n",
      "('USAF', [16, 23])\n",
      "('BROW', [12, 23])\n",
      "('UIW', [10, 23])\n",
      "('LAWR', [1, 23])\n",
      "26\n"
     ]
    }
   ],
   "source": [
    "# Read schools into dictionary\n",
    "# works correctly #############################################################\n",
    "schools = {}\n",
    "schoolColumn = 0\n",
    "victoryColumn = 27\n",
    "otherFencers = 23\n",
    "# go through each row of the table with a fencer in it\n",
    "for i in range(1, 25):\n",
    "    # go through each of the six tables\n",
    "    for j in range (1, 7):\n",
    "        # go through the pool tables and get the school names\n",
    "        temp = html[j * 3 - 1].iloc[i, schoolColumn].strip('\\n')\n",
    "        # if school name is in dictionary, increase their total number of bouts\n",
    "        if (temp in schools.keys()):\n",
    "            schools[temp] = [schools[temp][0], schools[temp][1] + otherFencers]\n",
    "        # if the school name isnt in dictionary add it to the dictionary\n",
    "        else:\n",
    "            schools[temp] = [0, otherFencers]\n",
    "        # find victories for the fencer\n",
    "        num = html[j * 3 - 1].iloc[i, victoryColumn]\n",
    "        # and add it to their school\n",
    "        schools[temp] = [schools[temp][0] + int(num), schools[temp][1]]\n",
    "###############################################################################\n",
    "# sort by total wins\n",
    "schoolTotal = len(schools.keys())\n",
    "schools = sorted(schools.items(), key=lambda i: i[1][0], reverse=True)\n",
    "# print the school data\n",
    "for p in schools: \n",
    "    print (p)\n",
    "#for key, value in schools.items() :\n",
    "#    print (key, value)"
   ]
  },
  {
   "cell_type": "code",
   "execution_count": 78,
   "metadata": {
    "collapsed": false,
    "deletable": true,
    "editable": true
   },
   "outputs": [
    {
     "name": "stdout",
     "output_type": "stream",
     "text": [
      "Duke University ['58', '0']\n",
      "Northwestern University ['44', '0']\n",
      "Pennsylvania, University of ['94', '0']\n",
      "University of the Incarnate Word ['10', '0']\n",
      "Cornell University ['36', '0']\n",
      "Ohio State University ['167', 10]\n",
      "Princeton University ['161', '0']\n",
      "Stanford University ['45', '0']\n",
      "U.S. Air Force Academy ['16', '0']\n",
      "Wayne State University ['41', '0']\n",
      "Boston College ['21', '0']\n",
      "St. John's University ['161', '0']\n",
      "Yale University ['28', '0']\n",
      "New York University ['44', '0']\n",
      "Notre Dame ['160', '0']\n",
      "NJ Institute of Technology ['55', '0']\n",
      "Brown University ['12', '0']\n",
      "U.C. San Diego ['27', '0']\n",
      "Pennsylvania State University ['127', '0']\n",
      "UNC, Chapel Hill ['18', '0']\n",
      "Temple University ['30', '0']\n",
      "Sacred Heart University ['26', '0']\n",
      "Lawrence University ['1', '0']\n",
      "Harvard University ['100', '0']\n",
      "Columbia/Barnard ['174', 10]\n"
     ]
    }
   ],
   "source": [
    "# Import the dictionary file\n",
    "schoolConversion = {}\n",
    "with open(\"schoolDict.txt\") as f:\n",
    "    for line in f:\n",
    "       (key, val) = line.strip('\\n').split(\";\")\n",
    "       schoolConversion[key] = val\n",
    "# Create bouts remain dictionary\n",
    "boutsRemain = {}\n",
    "# go through list of schools at bottom of page\n",
    "for i in range(1, len(html[18])):\n",
    "    schoolColumn = 2\n",
    "    totalColumn = 3\n",
    "    remainColumn = 4\n",
    "    temp = html[18].iloc[i, schoolColumn].strip('\\n')\n",
    "    if (temp in boutsRemain.keys()):\n",
    "        boutsRemain[temp] = [boutsRemain[temp][0], boutsRemain[temp][1] + otherFencers]\n",
    "    else:\n",
    "        boutsRemain[temp] = [html[18].iloc[i, totalColumn], html[18].iloc[i, remainColumn]]\n",
    "boutsRemain[\"Columbia/Barnard\"][1] = 10\n",
    "boutsRemain[\"Ohio State University\"][1] = 10\n",
    "for key, value in boutsRemain.items():\n",
    "    print (key, value)"
   ]
  },
  {
   "cell_type": "code",
   "execution_count": 74,
   "metadata": {
    "collapsed": false
   },
   "outputs": [
    {
     "name": "stdout",
     "output_type": "stream",
     "text": [
      "Columbia/Barnard is in first place, ahead of Ohio State University by 7 bouts and needs to win 3 of their remaining 10 bouts to clinch. That's 30.0% of their remaining bouts.\n"
     ]
    }
   ],
   "source": [
    "schoolToCheck = \"COLU\"\n",
    "firstPlace = \"\"\n",
    "secondPlace = \"\"\n",
    "xthPlace = \"\"\n",
    "# schools\n",
    "#     SCHOOLCODE => [Total wins, total bouts]\n",
    "# schoolConversion\n",
    "#     SCHOOLCODE => Schoolname\n",
    "# boutsRemain\n",
    "#     Schoolname => [Total wins, bouts remain]\n",
    "\n",
    "# 1. Find winner and schoolToCheck place\n",
    "# 2. Is schoolToCheck winner? \n",
    "# 3.     Yes -> find second place school\n",
    "#               \"schoolToCheck is in first place, ahead of secondPlace by (firstWins - secondWins)\"\n",
    "# 3.     No  -> \"schoolToCheck is in xthPlace and is (firstWins - xthWins) behind firstSchool\n",
    "\n",
    "# 1. Find winner and schoolToCheck place\n",
    "for i in range(1, 25):\n",
    "    schoolColumn = 2\n",
    "    school = html[18].iloc[i, schoolColumn]\n",
    "    # who is in first place\n",
    "    if (i == 1):\n",
    "        firstPlace = school.strip('\\n')\n",
    "    # who is in second place\n",
    "    elif (i == 2):\n",
    "        secondPlace = school.strip('\\n')\n",
    "    # what place is our school in\n",
    "    if (schoolConversion[schoolToCheck] == school):\n",
    "        xthPlace = i\n",
    "# If we are in first place\n",
    "if (xthPlace == 1):\n",
    "    diff = int(boutsRemain[firstPlace][0]) - int(boutsRemain[secondPlace][0])\n",
    "    if (diff > int(boutsRemain[secondPlace][1])):\n",
    "        print (firstPlace + \" is in first place, ahead of \" + secondPlace + \" by \" + str(diff) + \" bouts and has clinched the championship!\")\n",
    "    else:\n",
    "        # (second place's win total + second place's remaining bouts) - first place total bouts\n",
    "        need = (int(boutsRemain[secondPlace][1]) + int(boutsRemain[secondPlace][0])) - int(boutsRemain[firstPlace][0])\n",
    "        remain = int(boutsRemain[firstPlace][1])\n",
    "        percent = need / remain * 100.0\n",
    "        print (firstPlace + \" is in first place, ahead of \" + secondPlace + \" by \" + str(diff) + \" bouts and needs to win \" + str(need) + \" of their remaining \" + str(remain) + \" bouts to clinch. That's \" + str(percent) + \"% of their remaining bouts.\")\n",
    "# If we are not in first place\n",
    "else:\n",
    "    diff = int(boutsRemain[firstPlace][0]) - int(boutsRemain[secondPlace][0])\n",
    "    print (str(schoolConversion[schoolToCheck]) + \" is in \" + str(xthPlace) + \" place and is \" + str(diff) + \" bouts behind \" + firstPlace) "
   ]
  },
  {
   "cell_type": "code",
   "execution_count": null,
   "metadata": {
    "collapsed": true
   },
   "outputs": [],
   "source": []
  }
 ],
 "metadata": {
  "kernelspec": {
   "display_name": "Python 3",
   "language": "python",
   "name": "python3"
  },
  "language_info": {
   "codemirror_mode": {
    "name": "ipython",
    "version": 3
   },
   "file_extension": ".py",
   "mimetype": "text/x-python",
   "name": "python",
   "nbconvert_exporter": "python",
   "pygments_lexer": "ipython3",
   "version": "3.5.2"
  }
 },
 "nbformat": 4,
 "nbformat_minor": 2
}
